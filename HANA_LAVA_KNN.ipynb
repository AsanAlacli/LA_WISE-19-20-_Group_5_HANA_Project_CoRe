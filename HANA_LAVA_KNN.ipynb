{
 "cells": [
  {
   "cell_type": "markdown",
   "metadata": {},
   "source": [
    "# import related dict."
   ]
  },
  {
   "cell_type": "code",
   "execution_count": 35,
   "metadata": {},
   "outputs": [],
   "source": [
    "import numpy as np \n",
    "from sklearn import preprocessing, neighbors\n",
    "from sklearn.model_selection import cross_validate\n",
    "import pandas as pd \n",
    "from sklearn.model_selection import train_test_split\n",
    "import matplotlib.pyplot as plt\n",
    "from matplotlib import style\n",
    "from sklearn.cluster import KMeans\n",
    "from sklearn.neighbors import KNeighborsClassifier\n",
    "from sklearn import utils\n",
    "from flask import Flask, render_template, flash, request, url_for\n"
   ]
  },
  {
   "cell_type": "markdown",
   "metadata": {},
   "source": [
    "# read the data from survey"
   ]
  },
  {
   "cell_type": "code",
   "execution_count": 36,
   "metadata": {},
   "outputs": [],
   "source": [
    "df1 = pd.read_excel('HANA.19.JAN.xlsx')"
   ]
  },
  {
   "cell_type": "markdown",
   "metadata": {},
   "source": [
    "# check the shape and data"
   ]
  },
  {
   "cell_type": "code",
   "execution_count": 37,
   "metadata": {},
   "outputs": [
    {
     "data": {
      "text/plain": [
       "(240, 16)"
      ]
     },
     "execution_count": 37,
     "metadata": {},
     "output_type": "execute_result"
    }
   ],
   "source": [
    "df1.shape"
   ]
  },
  {
   "cell_type": "code",
   "execution_count": 38,
   "metadata": {
    "scrolled": true
   },
   "outputs": [
    {
     "data": {
      "text/html": [
       "<div>\n",
       "<style scoped>\n",
       "    .dataframe tbody tr th:only-of-type {\n",
       "        vertical-align: middle;\n",
       "    }\n",
       "\n",
       "    .dataframe tbody tr th {\n",
       "        vertical-align: top;\n",
       "    }\n",
       "\n",
       "    .dataframe thead th {\n",
       "        text-align: right;\n",
       "    }\n",
       "</style>\n",
       "<table border=\"1\" class=\"dataframe\">\n",
       "  <thead>\n",
       "    <tr style=\"text-align: right;\">\n",
       "      <th></th>\n",
       "      <th>4. Select your Study Program name</th>\n",
       "      <th>6. Select the course name</th>\n",
       "      <th>8. What was the main language of the course?</th>\n",
       "      <th>5. Select your Language Level [English]</th>\n",
       "      <th>5. Select your Language Level [German]</th>\n",
       "      <th>7. Rate your difficulty level of this course *</th>\n",
       "      <th>Select the learning method you found helpful to score a good grade.(For Mobile phone users: Swipe to left to see 100%) [Attending Lectures]</th>\n",
       "      <th>Select the learning method you found helpful to score a good grade.(For Mobile phone users: Swipe to left to see 100%) [Attending Exercises]</th>\n",
       "      <th>Select the learning method you found helpful to score a good grade.(For Mobile phone users: Swipe to left to see 100%) [Online Self study]</th>\n",
       "      <th>Select the learning method you found helpful to score a good grade.(For Mobile phone users: Swipe to left to see 100%) [Group Study]</th>\n",
       "      <th>How much did you participate in the course activity. (For Mobile phone users: Swipe to left to see 100%)</th>\n",
       "      <th>Did you have privious knowledge about the subject of the course?</th>\n",
       "      <th>How many hours did you study for the course per week?</th>\n",
       "      <th>Was your langugage level (English/German) enough to follow the course?</th>\n",
       "      <th>Enter the grade you earned in this course. (If you failed, please write 0)</th>\n",
       "      <th>att21</th>\n",
       "    </tr>\n",
       "  </thead>\n",
       "  <tbody>\n",
       "    <tr>\n",
       "      <td>0</td>\n",
       "      <td>M.Sc. Komedia</td>\n",
       "      <td>Cloud, Web&amp;Mobile</td>\n",
       "      <td>German</td>\n",
       "      <td>B2</td>\n",
       "      <td>Native</td>\n",
       "      <td>2</td>\n",
       "      <td>25%</td>\n",
       "      <td>25%</td>\n",
       "      <td>100%</td>\n",
       "      <td>0%</td>\n",
       "      <td>25%</td>\n",
       "      <td>No</td>\n",
       "      <td>5-10</td>\n",
       "      <td>Yes</td>\n",
       "      <td>2.0</td>\n",
       "      <td>0%</td>\n",
       "    </tr>\n",
       "    <tr>\n",
       "      <td>1</td>\n",
       "      <td>M.Sc. Computer Engineering (Intelligent Networ...</td>\n",
       "      <td>Information Mining</td>\n",
       "      <td>Englisch</td>\n",
       "      <td>B2</td>\n",
       "      <td>B2</td>\n",
       "      <td>4</td>\n",
       "      <td>100%</td>\n",
       "      <td>100%</td>\n",
       "      <td>100%</td>\n",
       "      <td>100%</td>\n",
       "      <td>100%</td>\n",
       "      <td>No</td>\n",
       "      <td>1-2</td>\n",
       "      <td>Yes</td>\n",
       "      <td>2.2</td>\n",
       "      <td>100%</td>\n",
       "    </tr>\n",
       "    <tr>\n",
       "      <td>2</td>\n",
       "      <td>M.Sc. Computer Engineering (Intelligent Networ...</td>\n",
       "      <td>Learning Analytics</td>\n",
       "      <td>Englisch</td>\n",
       "      <td>B2</td>\n",
       "      <td>C1</td>\n",
       "      <td>3</td>\n",
       "      <td>100%</td>\n",
       "      <td>75%</td>\n",
       "      <td>100%</td>\n",
       "      <td>75%</td>\n",
       "      <td>100%</td>\n",
       "      <td>Yes</td>\n",
       "      <td>5-10</td>\n",
       "      <td>Yes</td>\n",
       "      <td>2.3</td>\n",
       "      <td>100%</td>\n",
       "    </tr>\n",
       "    <tr>\n",
       "      <td>3</td>\n",
       "      <td>M.Sc. Computer Engineering (Intelligent Networ...</td>\n",
       "      <td>Information Mining</td>\n",
       "      <td>Englisch</td>\n",
       "      <td>B2</td>\n",
       "      <td>B1</td>\n",
       "      <td>4</td>\n",
       "      <td>100%</td>\n",
       "      <td>100%</td>\n",
       "      <td>100%</td>\n",
       "      <td>100%</td>\n",
       "      <td>100%</td>\n",
       "      <td>No</td>\n",
       "      <td>2-5</td>\n",
       "      <td>Yes</td>\n",
       "      <td>2.7</td>\n",
       "      <td>100%</td>\n",
       "    </tr>\n",
       "    <tr>\n",
       "      <td>4</td>\n",
       "      <td>M.Sc. Computer Engineering (Intelligent Networ...</td>\n",
       "      <td>Learning Analytics</td>\n",
       "      <td>Englisch</td>\n",
       "      <td>B1</td>\n",
       "      <td>B1</td>\n",
       "      <td>3</td>\n",
       "      <td>100%</td>\n",
       "      <td>100%</td>\n",
       "      <td>100%</td>\n",
       "      <td>100%</td>\n",
       "      <td>75%</td>\n",
       "      <td>Yes</td>\n",
       "      <td>1-2</td>\n",
       "      <td>Yes</td>\n",
       "      <td>1.5</td>\n",
       "      <td>75%</td>\n",
       "    </tr>\n",
       "  </tbody>\n",
       "</table>\n",
       "</div>"
      ],
      "text/plain": [
       "                   4. Select your Study Program name  \\\n",
       "0                                      M.Sc. Komedia   \n",
       "1  M.Sc. Computer Engineering (Intelligent Networ...   \n",
       "2  M.Sc. Computer Engineering (Intelligent Networ...   \n",
       "3  M.Sc. Computer Engineering (Intelligent Networ...   \n",
       "4  M.Sc. Computer Engineering (Intelligent Networ...   \n",
       "\n",
       "  6. Select the course name 8. What was the main language of the course?  \\\n",
       "0         Cloud, Web&Mobile                                       German   \n",
       "1        Information Mining                                     Englisch   \n",
       "2        Learning Analytics                                     Englisch   \n",
       "3        Information Mining                                     Englisch   \n",
       "4        Learning Analytics                                     Englisch   \n",
       "\n",
       "  5. Select your Language Level [English]  \\\n",
       "0                                      B2   \n",
       "1                                      B2   \n",
       "2                                      B2   \n",
       "3                                      B2   \n",
       "4                                      B1   \n",
       "\n",
       "  5. Select your Language Level [German]  \\\n",
       "0                                 Native   \n",
       "1                                     B2   \n",
       "2                                     C1   \n",
       "3                                     B1   \n",
       "4                                     B1   \n",
       "\n",
       "   7. Rate your difficulty level of this course *  \\\n",
       "0                                               2   \n",
       "1                                               4   \n",
       "2                                               3   \n",
       "3                                               4   \n",
       "4                                               3   \n",
       "\n",
       "  Select the learning method you found helpful to score a good grade.(For Mobile phone users: Swipe to left to see 100%) [Attending Lectures]  \\\n",
       "0                                                25%                                                                                            \n",
       "1                                               100%                                                                                            \n",
       "2                                               100%                                                                                            \n",
       "3                                               100%                                                                                            \n",
       "4                                               100%                                                                                            \n",
       "\n",
       "  Select the learning method you found helpful to score a good grade.(For Mobile phone users: Swipe to left to see 100%) [Attending Exercises]  \\\n",
       "0                                                25%                                                                                             \n",
       "1                                               100%                                                                                             \n",
       "2                                                75%                                                                                             \n",
       "3                                               100%                                                                                             \n",
       "4                                               100%                                                                                             \n",
       "\n",
       "  Select the learning method you found helpful to score a good grade.(For Mobile phone users: Swipe to left to see 100%) [Online Self study]  \\\n",
       "0                                               100%                                                                                           \n",
       "1                                               100%                                                                                           \n",
       "2                                               100%                                                                                           \n",
       "3                                               100%                                                                                           \n",
       "4                                               100%                                                                                           \n",
       "\n",
       "  Select the learning method you found helpful to score a good grade.(For Mobile phone users: Swipe to left to see 100%) [Group Study]  \\\n",
       "0                                                 0%                                                                                     \n",
       "1                                               100%                                                                                     \n",
       "2                                                75%                                                                                     \n",
       "3                                               100%                                                                                     \n",
       "4                                               100%                                                                                     \n",
       "\n",
       "  How much did you participate in the course activity. (For Mobile phone users: Swipe to left to see 100%)  \\\n",
       "0                                                25%                                                         \n",
       "1                                               100%                                                         \n",
       "2                                               100%                                                         \n",
       "3                                               100%                                                         \n",
       "4                                                75%                                                         \n",
       "\n",
       "  Did you have privious knowledge about the subject of the course?  \\\n",
       "0                                                 No                 \n",
       "1                                                 No                 \n",
       "2                                                Yes                 \n",
       "3                                                 No                 \n",
       "4                                                Yes                 \n",
       "\n",
       "  How many hours did you study for the course per week?  \\\n",
       "0                                               5-10      \n",
       "1                                                1-2      \n",
       "2                                               5-10      \n",
       "3                                                2-5      \n",
       "4                                                1-2      \n",
       "\n",
       "  Was your langugage level (English/German) enough to follow the course?  \\\n",
       "0                                                Yes                       \n",
       "1                                                Yes                       \n",
       "2                                                Yes                       \n",
       "3                                                Yes                       \n",
       "4                                                Yes                       \n",
       "\n",
       "   Enter the grade you earned in this course. (If you failed, please write 0)  \\\n",
       "0                                                2.0                            \n",
       "1                                                2.2                            \n",
       "2                                                2.3                            \n",
       "3                                                2.7                            \n",
       "4                                                1.5                            \n",
       "\n",
       "  att21  \n",
       "0    0%  \n",
       "1  100%  \n",
       "2  100%  \n",
       "3  100%  \n",
       "4   75%  "
      ]
     },
     "execution_count": 38,
     "metadata": {},
     "output_type": "execute_result"
    }
   ],
   "source": [
    "df1.head()"
   ]
  },
  {
   "cell_type": "markdown",
   "metadata": {},
   "source": [
    "# drop unrelated columns"
   ]
  },
  {
   "cell_type": "code",
   "execution_count": 39,
   "metadata": {},
   "outputs": [],
   "source": [
    "df1.drop(['4. Select your Study Program name'], 1, inplace=True)"
   ]
  },
  {
   "cell_type": "code",
   "execution_count": 40,
   "metadata": {},
   "outputs": [
    {
     "data": {
      "text/plain": [
       "(240, 15)"
      ]
     },
     "execution_count": 40,
     "metadata": {},
     "output_type": "execute_result"
    }
   ],
   "source": [
    "df1.shape"
   ]
  },
  {
   "cell_type": "markdown",
   "metadata": {},
   "source": [
    "# Which course would you like to predict"
   ]
  },
  {
   "cell_type": "code",
   "execution_count": 41,
   "metadata": {},
   "outputs": [],
   "source": [
    "df2 = ['Learning Analytics']"
   ]
  },
  {
   "cell_type": "code",
   "execution_count": 42,
   "metadata": {},
   "outputs": [],
   "source": [
    "df = df1[df1['6. Select the course name'].isin(df2)]"
   ]
  },
  {
   "cell_type": "code",
   "execution_count": 43,
   "metadata": {},
   "outputs": [
    {
     "data": {
      "text/plain": [
       "(81, 15)"
      ]
     },
     "execution_count": 43,
     "metadata": {},
     "output_type": "execute_result"
    }
   ],
   "source": [
    "df.shape"
   ]
  },
  {
   "cell_type": "code",
   "execution_count": 44,
   "metadata": {},
   "outputs": [],
   "source": [
    "#df.drop((df.columns[0]), axis=0, inplace=True)"
   ]
  },
  {
   "cell_type": "code",
   "execution_count": 45,
   "metadata": {
    "scrolled": true
   },
   "outputs": [
    {
     "data": {
      "text/html": [
       "<div>\n",
       "<style scoped>\n",
       "    .dataframe tbody tr th:only-of-type {\n",
       "        vertical-align: middle;\n",
       "    }\n",
       "\n",
       "    .dataframe tbody tr th {\n",
       "        vertical-align: top;\n",
       "    }\n",
       "\n",
       "    .dataframe thead th {\n",
       "        text-align: right;\n",
       "    }\n",
       "</style>\n",
       "<table border=\"1\" class=\"dataframe\">\n",
       "  <thead>\n",
       "    <tr style=\"text-align: right;\">\n",
       "      <th></th>\n",
       "      <th>6. Select the course name</th>\n",
       "      <th>8. What was the main language of the course?</th>\n",
       "      <th>5. Select your Language Level [English]</th>\n",
       "      <th>5. Select your Language Level [German]</th>\n",
       "      <th>7. Rate your difficulty level of this course *</th>\n",
       "      <th>Select the learning method you found helpful to score a good grade.(For Mobile phone users: Swipe to left to see 100%) [Attending Lectures]</th>\n",
       "      <th>Select the learning method you found helpful to score a good grade.(For Mobile phone users: Swipe to left to see 100%) [Attending Exercises]</th>\n",
       "      <th>Select the learning method you found helpful to score a good grade.(For Mobile phone users: Swipe to left to see 100%) [Online Self study]</th>\n",
       "      <th>Select the learning method you found helpful to score a good grade.(For Mobile phone users: Swipe to left to see 100%) [Group Study]</th>\n",
       "      <th>How much did you participate in the course activity. (For Mobile phone users: Swipe to left to see 100%)</th>\n",
       "      <th>Did you have privious knowledge about the subject of the course?</th>\n",
       "      <th>How many hours did you study for the course per week?</th>\n",
       "      <th>Was your langugage level (English/German) enough to follow the course?</th>\n",
       "      <th>Enter the grade you earned in this course. (If you failed, please write 0)</th>\n",
       "      <th>att21</th>\n",
       "    </tr>\n",
       "  </thead>\n",
       "  <tbody>\n",
       "    <tr>\n",
       "      <td>2</td>\n",
       "      <td>Learning Analytics</td>\n",
       "      <td>Englisch</td>\n",
       "      <td>B2</td>\n",
       "      <td>C1</td>\n",
       "      <td>3</td>\n",
       "      <td>100%</td>\n",
       "      <td>75%</td>\n",
       "      <td>100%</td>\n",
       "      <td>75%</td>\n",
       "      <td>100%</td>\n",
       "      <td>Yes</td>\n",
       "      <td>5-10</td>\n",
       "      <td>Yes</td>\n",
       "      <td>2.3</td>\n",
       "      <td>100%</td>\n",
       "    </tr>\n",
       "    <tr>\n",
       "      <td>4</td>\n",
       "      <td>Learning Analytics</td>\n",
       "      <td>Englisch</td>\n",
       "      <td>B1</td>\n",
       "      <td>B1</td>\n",
       "      <td>3</td>\n",
       "      <td>100%</td>\n",
       "      <td>100%</td>\n",
       "      <td>100%</td>\n",
       "      <td>100%</td>\n",
       "      <td>75%</td>\n",
       "      <td>Yes</td>\n",
       "      <td>1-2</td>\n",
       "      <td>Yes</td>\n",
       "      <td>1.5</td>\n",
       "      <td>75%</td>\n",
       "    </tr>\n",
       "    <tr>\n",
       "      <td>5</td>\n",
       "      <td>Learning Analytics</td>\n",
       "      <td>Englisch</td>\n",
       "      <td>B1</td>\n",
       "      <td>B1</td>\n",
       "      <td>3</td>\n",
       "      <td>100%</td>\n",
       "      <td>100%</td>\n",
       "      <td>100%</td>\n",
       "      <td>100%</td>\n",
       "      <td>75%</td>\n",
       "      <td>Yes</td>\n",
       "      <td>1-2</td>\n",
       "      <td>Yes</td>\n",
       "      <td>1.5</td>\n",
       "      <td>75%</td>\n",
       "    </tr>\n",
       "    <tr>\n",
       "      <td>7</td>\n",
       "      <td>Learning Analytics</td>\n",
       "      <td>Englisch</td>\n",
       "      <td>B1</td>\n",
       "      <td>B1</td>\n",
       "      <td>3</td>\n",
       "      <td>100%</td>\n",
       "      <td>100%</td>\n",
       "      <td>100%</td>\n",
       "      <td>100%</td>\n",
       "      <td>75%</td>\n",
       "      <td>Yes</td>\n",
       "      <td>1-2</td>\n",
       "      <td>Yes</td>\n",
       "      <td>1.5</td>\n",
       "      <td>75%</td>\n",
       "    </tr>\n",
       "    <tr>\n",
       "      <td>20</td>\n",
       "      <td>Learning Analytics</td>\n",
       "      <td>Englisch</td>\n",
       "      <td>B2</td>\n",
       "      <td>C1</td>\n",
       "      <td>3</td>\n",
       "      <td>50%</td>\n",
       "      <td>75%</td>\n",
       "      <td>75%</td>\n",
       "      <td>75%</td>\n",
       "      <td>25%</td>\n",
       "      <td>No</td>\n",
       "      <td>1-2</td>\n",
       "      <td>Yes</td>\n",
       "      <td>2.0</td>\n",
       "      <td>50%</td>\n",
       "    </tr>\n",
       "  </tbody>\n",
       "</table>\n",
       "</div>"
      ],
      "text/plain": [
       "   6. Select the course name 8. What was the main language of the course?  \\\n",
       "2         Learning Analytics                                     Englisch   \n",
       "4         Learning Analytics                                     Englisch   \n",
       "5         Learning Analytics                                     Englisch   \n",
       "7         Learning Analytics                                     Englisch   \n",
       "20        Learning Analytics                                     Englisch   \n",
       "\n",
       "   5. Select your Language Level [English]  \\\n",
       "2                                       B2   \n",
       "4                                       B1   \n",
       "5                                       B1   \n",
       "7                                       B1   \n",
       "20                                      B2   \n",
       "\n",
       "   5. Select your Language Level [German]  \\\n",
       "2                                      C1   \n",
       "4                                      B1   \n",
       "5                                      B1   \n",
       "7                                      B1   \n",
       "20                                     C1   \n",
       "\n",
       "    7. Rate your difficulty level of this course *  \\\n",
       "2                                                3   \n",
       "4                                                3   \n",
       "5                                                3   \n",
       "7                                                3   \n",
       "20                                               3   \n",
       "\n",
       "   Select the learning method you found helpful to score a good grade.(For Mobile phone users: Swipe to left to see 100%) [Attending Lectures]  \\\n",
       "2                                                100%                                                                                            \n",
       "4                                                100%                                                                                            \n",
       "5                                                100%                                                                                            \n",
       "7                                                100%                                                                                            \n",
       "20                                                50%                                                                                            \n",
       "\n",
       "   Select the learning method you found helpful to score a good grade.(For Mobile phone users: Swipe to left to see 100%) [Attending Exercises]  \\\n",
       "2                                                 75%                                                                                             \n",
       "4                                                100%                                                                                             \n",
       "5                                                100%                                                                                             \n",
       "7                                                100%                                                                                             \n",
       "20                                                75%                                                                                             \n",
       "\n",
       "   Select the learning method you found helpful to score a good grade.(For Mobile phone users: Swipe to left to see 100%) [Online Self study]  \\\n",
       "2                                                100%                                                                                           \n",
       "4                                                100%                                                                                           \n",
       "5                                                100%                                                                                           \n",
       "7                                                100%                                                                                           \n",
       "20                                                75%                                                                                           \n",
       "\n",
       "   Select the learning method you found helpful to score a good grade.(For Mobile phone users: Swipe to left to see 100%) [Group Study]  \\\n",
       "2                                                 75%                                                                                     \n",
       "4                                                100%                                                                                     \n",
       "5                                                100%                                                                                     \n",
       "7                                                100%                                                                                     \n",
       "20                                                75%                                                                                     \n",
       "\n",
       "   How much did you participate in the course activity. (For Mobile phone users: Swipe to left to see 100%)  \\\n",
       "2                                                100%                                                         \n",
       "4                                                 75%                                                         \n",
       "5                                                 75%                                                         \n",
       "7                                                 75%                                                         \n",
       "20                                                25%                                                         \n",
       "\n",
       "   Did you have privious knowledge about the subject of the course?  \\\n",
       "2                                                 Yes                 \n",
       "4                                                 Yes                 \n",
       "5                                                 Yes                 \n",
       "7                                                 Yes                 \n",
       "20                                                 No                 \n",
       "\n",
       "   How many hours did you study for the course per week?  \\\n",
       "2                                                5-10      \n",
       "4                                                 1-2      \n",
       "5                                                 1-2      \n",
       "7                                                 1-2      \n",
       "20                                                1-2      \n",
       "\n",
       "   Was your langugage level (English/German) enough to follow the course?  \\\n",
       "2                                                 Yes                       \n",
       "4                                                 Yes                       \n",
       "5                                                 Yes                       \n",
       "7                                                 Yes                       \n",
       "20                                                Yes                       \n",
       "\n",
       "    Enter the grade you earned in this course. (If you failed, please write 0)  \\\n",
       "2                                                 2.3                            \n",
       "4                                                 1.5                            \n",
       "5                                                 1.5                            \n",
       "7                                                 1.5                            \n",
       "20                                                2.0                            \n",
       "\n",
       "   att21  \n",
       "2   100%  \n",
       "4    75%  \n",
       "5    75%  \n",
       "7    75%  \n",
       "20   50%  "
      ]
     },
     "execution_count": 45,
     "metadata": {},
     "output_type": "execute_result"
    }
   ],
   "source": [
    "df.head()"
   ]
  },
  {
   "cell_type": "markdown",
   "metadata": {},
   "source": [
    "# after select the course, drop that column to model preperation"
   ]
  },
  {
   "cell_type": "code",
   "execution_count": 46,
   "metadata": {
    "scrolled": true
   },
   "outputs": [
    {
     "name": "stderr",
     "output_type": "stream",
     "text": [
      "/Users/hasanhalacli/opt/anaconda3/lib/python3.7/site-packages/pandas/core/frame.py:4102: SettingWithCopyWarning: \n",
      "A value is trying to be set on a copy of a slice from a DataFrame\n",
      "\n",
      "See the caveats in the documentation: http://pandas.pydata.org/pandas-docs/stable/user_guide/indexing.html#returning-a-view-versus-a-copy\n",
      "  errors=errors,\n"
     ]
    }
   ],
   "source": [
    "df.drop(['6. Select the course name'], axis=1, inplace=True)"
   ]
  },
  {
   "cell_type": "code",
   "execution_count": 47,
   "metadata": {},
   "outputs": [],
   "source": [
    "df.drop(['7. Rate your difficulty level of this course *'], axis=1, inplace=True)"
   ]
  },
  {
   "cell_type": "code",
   "execution_count": 48,
   "metadata": {},
   "outputs": [],
   "source": [
    "df.drop(['5. Select your Language Level [German]'], axis=1, inplace=True)"
   ]
  },
  {
   "cell_type": "code",
   "execution_count": 49,
   "metadata": {},
   "outputs": [],
   "source": [
    "df.drop(['8. What was the main language of the course?'], axis=1, inplace=True)"
   ]
  },
  {
   "cell_type": "code",
   "execution_count": 50,
   "metadata": {
    "scrolled": true
   },
   "outputs": [
    {
     "data": {
      "text/html": [
       "<div>\n",
       "<style scoped>\n",
       "    .dataframe tbody tr th:only-of-type {\n",
       "        vertical-align: middle;\n",
       "    }\n",
       "\n",
       "    .dataframe tbody tr th {\n",
       "        vertical-align: top;\n",
       "    }\n",
       "\n",
       "    .dataframe thead th {\n",
       "        text-align: right;\n",
       "    }\n",
       "</style>\n",
       "<table border=\"1\" class=\"dataframe\">\n",
       "  <thead>\n",
       "    <tr style=\"text-align: right;\">\n",
       "      <th></th>\n",
       "      <th>5. Select your Language Level [English]</th>\n",
       "      <th>Select the learning method you found helpful to score a good grade.(For Mobile phone users: Swipe to left to see 100%) [Attending Lectures]</th>\n",
       "      <th>Select the learning method you found helpful to score a good grade.(For Mobile phone users: Swipe to left to see 100%) [Attending Exercises]</th>\n",
       "      <th>Select the learning method you found helpful to score a good grade.(For Mobile phone users: Swipe to left to see 100%) [Online Self study]</th>\n",
       "      <th>Select the learning method you found helpful to score a good grade.(For Mobile phone users: Swipe to left to see 100%) [Group Study]</th>\n",
       "      <th>How much did you participate in the course activity. (For Mobile phone users: Swipe to left to see 100%)</th>\n",
       "      <th>Did you have privious knowledge about the subject of the course?</th>\n",
       "      <th>How many hours did you study for the course per week?</th>\n",
       "      <th>Was your langugage level (English/German) enough to follow the course?</th>\n",
       "      <th>Enter the grade you earned in this course. (If you failed, please write 0)</th>\n",
       "      <th>att21</th>\n",
       "    </tr>\n",
       "  </thead>\n",
       "  <tbody>\n",
       "    <tr>\n",
       "      <td>2</td>\n",
       "      <td>B2</td>\n",
       "      <td>100%</td>\n",
       "      <td>75%</td>\n",
       "      <td>100%</td>\n",
       "      <td>75%</td>\n",
       "      <td>100%</td>\n",
       "      <td>Yes</td>\n",
       "      <td>5-10</td>\n",
       "      <td>Yes</td>\n",
       "      <td>2.3</td>\n",
       "      <td>100%</td>\n",
       "    </tr>\n",
       "    <tr>\n",
       "      <td>4</td>\n",
       "      <td>B1</td>\n",
       "      <td>100%</td>\n",
       "      <td>100%</td>\n",
       "      <td>100%</td>\n",
       "      <td>100%</td>\n",
       "      <td>75%</td>\n",
       "      <td>Yes</td>\n",
       "      <td>1-2</td>\n",
       "      <td>Yes</td>\n",
       "      <td>1.5</td>\n",
       "      <td>75%</td>\n",
       "    </tr>\n",
       "    <tr>\n",
       "      <td>5</td>\n",
       "      <td>B1</td>\n",
       "      <td>100%</td>\n",
       "      <td>100%</td>\n",
       "      <td>100%</td>\n",
       "      <td>100%</td>\n",
       "      <td>75%</td>\n",
       "      <td>Yes</td>\n",
       "      <td>1-2</td>\n",
       "      <td>Yes</td>\n",
       "      <td>1.5</td>\n",
       "      <td>75%</td>\n",
       "    </tr>\n",
       "    <tr>\n",
       "      <td>7</td>\n",
       "      <td>B1</td>\n",
       "      <td>100%</td>\n",
       "      <td>100%</td>\n",
       "      <td>100%</td>\n",
       "      <td>100%</td>\n",
       "      <td>75%</td>\n",
       "      <td>Yes</td>\n",
       "      <td>1-2</td>\n",
       "      <td>Yes</td>\n",
       "      <td>1.5</td>\n",
       "      <td>75%</td>\n",
       "    </tr>\n",
       "    <tr>\n",
       "      <td>20</td>\n",
       "      <td>B2</td>\n",
       "      <td>50%</td>\n",
       "      <td>75%</td>\n",
       "      <td>75%</td>\n",
       "      <td>75%</td>\n",
       "      <td>25%</td>\n",
       "      <td>No</td>\n",
       "      <td>1-2</td>\n",
       "      <td>Yes</td>\n",
       "      <td>2.0</td>\n",
       "      <td>50%</td>\n",
       "    </tr>\n",
       "  </tbody>\n",
       "</table>\n",
       "</div>"
      ],
      "text/plain": [
       "   5. Select your Language Level [English]  \\\n",
       "2                                       B2   \n",
       "4                                       B1   \n",
       "5                                       B1   \n",
       "7                                       B1   \n",
       "20                                      B2   \n",
       "\n",
       "   Select the learning method you found helpful to score a good grade.(For Mobile phone users: Swipe to left to see 100%) [Attending Lectures]  \\\n",
       "2                                                100%                                                                                            \n",
       "4                                                100%                                                                                            \n",
       "5                                                100%                                                                                            \n",
       "7                                                100%                                                                                            \n",
       "20                                                50%                                                                                            \n",
       "\n",
       "   Select the learning method you found helpful to score a good grade.(For Mobile phone users: Swipe to left to see 100%) [Attending Exercises]  \\\n",
       "2                                                 75%                                                                                             \n",
       "4                                                100%                                                                                             \n",
       "5                                                100%                                                                                             \n",
       "7                                                100%                                                                                             \n",
       "20                                                75%                                                                                             \n",
       "\n",
       "   Select the learning method you found helpful to score a good grade.(For Mobile phone users: Swipe to left to see 100%) [Online Self study]  \\\n",
       "2                                                100%                                                                                           \n",
       "4                                                100%                                                                                           \n",
       "5                                                100%                                                                                           \n",
       "7                                                100%                                                                                           \n",
       "20                                                75%                                                                                           \n",
       "\n",
       "   Select the learning method you found helpful to score a good grade.(For Mobile phone users: Swipe to left to see 100%) [Group Study]  \\\n",
       "2                                                 75%                                                                                     \n",
       "4                                                100%                                                                                     \n",
       "5                                                100%                                                                                     \n",
       "7                                                100%                                                                                     \n",
       "20                                                75%                                                                                     \n",
       "\n",
       "   How much did you participate in the course activity. (For Mobile phone users: Swipe to left to see 100%)  \\\n",
       "2                                                100%                                                         \n",
       "4                                                 75%                                                         \n",
       "5                                                 75%                                                         \n",
       "7                                                 75%                                                         \n",
       "20                                                25%                                                         \n",
       "\n",
       "   Did you have privious knowledge about the subject of the course?  \\\n",
       "2                                                 Yes                 \n",
       "4                                                 Yes                 \n",
       "5                                                 Yes                 \n",
       "7                                                 Yes                 \n",
       "20                                                 No                 \n",
       "\n",
       "   How many hours did you study for the course per week?  \\\n",
       "2                                                5-10      \n",
       "4                                                 1-2      \n",
       "5                                                 1-2      \n",
       "7                                                 1-2      \n",
       "20                                                1-2      \n",
       "\n",
       "   Was your langugage level (English/German) enough to follow the course?  \\\n",
       "2                                                 Yes                       \n",
       "4                                                 Yes                       \n",
       "5                                                 Yes                       \n",
       "7                                                 Yes                       \n",
       "20                                                Yes                       \n",
       "\n",
       "    Enter the grade you earned in this course. (If you failed, please write 0)  \\\n",
       "2                                                 2.3                            \n",
       "4                                                 1.5                            \n",
       "5                                                 1.5                            \n",
       "7                                                 1.5                            \n",
       "20                                                2.0                            \n",
       "\n",
       "   att21  \n",
       "2   100%  \n",
       "4    75%  \n",
       "5    75%  \n",
       "7    75%  \n",
       "20   50%  "
      ]
     },
     "execution_count": 50,
     "metadata": {},
     "output_type": "execute_result"
    }
   ],
   "source": [
    "df.head()"
   ]
  },
  {
   "cell_type": "code",
   "execution_count": 51,
   "metadata": {},
   "outputs": [
    {
     "data": {
      "text/plain": [
       "(81, 11)"
      ]
     },
     "execution_count": 51,
     "metadata": {},
     "output_type": "execute_result"
    }
   ],
   "source": [
    "df.shape"
   ]
  },
  {
   "cell_type": "markdown",
   "metadata": {},
   "source": [
    "# we need integers for KNN"
   ]
  },
  {
   "cell_type": "code",
   "execution_count": 52,
   "metadata": {
    "scrolled": true
   },
   "outputs": [
    {
     "name": "stdout",
     "output_type": "stream",
     "text": [
      "    5. Select your Language Level [English]  \\\n",
      "2                                         1   \n",
      "4                                         2   \n",
      "5                                         2   \n",
      "7                                         2   \n",
      "20                                        1   \n",
      "\n",
      "    Select the learning method you found helpful to score a good grade.(For Mobile phone users: Swipe to left to see 100%) [Attending Lectures]  \\\n",
      "2                                                   1                                                                                             \n",
      "4                                                   1                                                                                             \n",
      "5                                                   1                                                                                             \n",
      "7                                                   1                                                                                             \n",
      "20                                                  0                                                                                             \n",
      "\n",
      "    Select the learning method you found helpful to score a good grade.(For Mobile phone users: Swipe to left to see 100%) [Attending Exercises]  \\\n",
      "2                                                   1                                                                                              \n",
      "4                                                   2                                                                                              \n",
      "5                                                   2                                                                                              \n",
      "7                                                   2                                                                                              \n",
      "20                                                  1                                                                                              \n",
      "\n",
      "    Select the learning method you found helpful to score a good grade.(For Mobile phone users: Swipe to left to see 100%) [Online Self study]  \\\n",
      "2                                                   3                                                                                            \n",
      "4                                                   3                                                                                            \n",
      "5                                                   3                                                                                            \n",
      "7                                                   3                                                                                            \n",
      "20                                                  2                                                                                            \n",
      "\n",
      "    Select the learning method you found helpful to score a good grade.(For Mobile phone users: Swipe to left to see 100%) [Group Study]  \\\n",
      "2                                                   1                                                                                      \n",
      "4                                                   2                                                                                      \n",
      "5                                                   2                                                                                      \n",
      "7                                                   2                                                                                      \n",
      "20                                                  1                                                                                      \n",
      "\n",
      "    How much did you participate in the course activity. (For Mobile phone users: Swipe to left to see 100%)  \\\n",
      "2                                                   3                                                          \n",
      "4                                                   2                                                          \n",
      "5                                                   2                                                          \n",
      "7                                                   2                                                          \n",
      "20                                                  1                                                          \n",
      "\n",
      "    Did you have privious knowledge about the subject of the course?  \\\n",
      "2                                                   1                  \n",
      "4                                                   1                  \n",
      "5                                                   1                  \n",
      "7                                                   1                  \n",
      "20                                                  0                  \n",
      "\n",
      "    How many hours did you study for the course per week?  \\\n",
      "2                                                   2       \n",
      "4                                                   1       \n",
      "5                                                   1       \n",
      "7                                                   1       \n",
      "20                                                  1       \n",
      "\n",
      "    Was your langugage level (English/German) enough to follow the course?  \\\n",
      "2                                                   1                        \n",
      "4                                                   1                        \n",
      "5                                                   1                        \n",
      "7                                                   1                        \n",
      "20                                                  1                        \n",
      "\n",
      "    Enter the grade you earned in this course. (If you failed, please write 0)  \\\n",
      "2                                                 2.3                            \n",
      "4                                                 1.5                            \n",
      "5                                                 1.5                            \n",
      "7                                                 1.5                            \n",
      "20                                                2.0                            \n",
      "\n",
      "    att21  \n",
      "2       2  \n",
      "4       1  \n",
      "5       1  \n",
      "7       1  \n",
      "20      0  \n"
     ]
    },
    {
     "name": "stderr",
     "output_type": "stream",
     "text": [
      "/Users/hasanhalacli/opt/anaconda3/lib/python3.7/site-packages/ipykernel_launcher.py:17: SettingWithCopyWarning: \n",
      "A value is trying to be set on a copy of a slice from a DataFrame.\n",
      "Try using .loc[row_indexer,col_indexer] = value instead\n",
      "\n",
      "See the caveats in the documentation: http://pandas.pydata.org/pandas-docs/stable/user_guide/indexing.html#returning-a-view-versus-a-copy\n"
     ]
    }
   ],
   "source": [
    "def handle_non_numerical_data(df):\n",
    "    columns = df.columns.values\n",
    "    for column in columns:\n",
    "        text_digit_vals = {}\n",
    "        def convert_to_int(val):\n",
    "            return text_digit_vals[val]\n",
    "\n",
    "        if df[column].dtype != np.int64 and df[column].dtype != np.float64:\n",
    "            column_contents = df[column].values.tolist()\n",
    "            unique_elements = set(column_contents)\n",
    "            x = 0\n",
    "            for unique in unique_elements:\n",
    "                if unique not in text_digit_vals:\n",
    "                    text_digit_vals[unique] = x\n",
    "                    x+=1\n",
    "\n",
    "            df[column] = list(map(convert_to_int, df[column]))\n",
    "\n",
    "    return df\n",
    "\n",
    "df = handle_non_numerical_data(df)\n",
    "print(df.head())"
   ]
  },
  {
   "cell_type": "code",
   "execution_count": 53,
   "metadata": {},
   "outputs": [
    {
     "data": {
      "text/plain": [
       "(81, 11)"
      ]
     },
     "execution_count": 53,
     "metadata": {},
     "output_type": "execute_result"
    }
   ],
   "source": [
    "df.shape"
   ]
  },
  {
   "cell_type": "markdown",
   "metadata": {},
   "source": [
    "# Features"
   ]
  },
  {
   "cell_type": "code",
   "execution_count": 54,
   "metadata": {},
   "outputs": [],
   "source": [
    "X=np.array(df.drop(['Enter the grade you earned in this course. (If you failed, please write 0)'],axis=1))"
   ]
  },
  {
   "cell_type": "code",
   "execution_count": 55,
   "metadata": {},
   "outputs": [
    {
     "data": {
      "text/plain": [
       "array([[1, 1, 1, 3, 1, 3, 1, 2, 1, 2],\n",
       "       [2, 1, 2, 3, 2, 2, 1, 1, 1, 1],\n",
       "       [2, 1, 2, 3, 2, 2, 1, 1, 1, 1],\n",
       "       [2, 1, 2, 3, 2, 2, 1, 1, 1, 1],\n",
       "       [1, 0, 1, 2, 1, 1, 0, 1, 1, 0],\n",
       "       [2, 0, 0, 4, 0, 1, 1, 2, 1, 0],\n",
       "       [1, 0, 1, 2, 2, 1, 0, 1, 1, 0],\n",
       "       [2, 0, 0, 1, 0, 1, 1, 2, 1, 0],\n",
       "       [1, 0, 0, 1, 0, 1, 1, 2, 1, 0],\n",
       "       [2, 0, 0, 1, 0, 0, 1, 2, 1, 0],\n",
       "       [1, 1, 2, 0, 1, 0, 0, 3, 0, 2],\n",
       "       [3, 3, 2, 0, 0, 2, 0, 3, 0, 3],\n",
       "       [1, 3, 1, 2, 3, 0, 1, 3, 1, 0],\n",
       "       [1, 1, 2, 3, 2, 3, 1, 3, 1, 2],\n",
       "       [1, 3, 1, 3, 2, 2, 1, 2, 1, 1],\n",
       "       [1, 1, 2, 3, 2, 3, 1, 2, 1, 2],\n",
       "       [1, 0, 0, 3, 2, 0, 0, 0, 1, 0],\n",
       "       [0, 3, 1, 2, 3, 0, 1, 3, 1, 0],\n",
       "       [1, 3, 0, 2, 1, 3, 0, 2, 1, 2],\n",
       "       [1, 1, 2, 2, 1, 3, 1, 2, 1, 2],\n",
       "       [1, 3, 2, 0, 0, 2, 0, 3, 0, 3],\n",
       "       [1, 0, 2, 1, 0, 1, 1, 2, 1, 0],\n",
       "       [1, 3, 2, 2, 0, 2, 0, 3, 0, 3],\n",
       "       [1, 0, 3, 4, 0, 1, 1, 2, 1, 0],\n",
       "       [1, 1, 1, 3, 1, 3, 0, 3, 0, 2],\n",
       "       [1, 1, 1, 2, 2, 3, 1, 3, 1, 2],\n",
       "       [2, 3, 0, 0, 2, 2, 1, 2, 1, 1],\n",
       "       [3, 1, 0, 3, 2, 3, 1, 2, 1, 2],\n",
       "       [2, 0, 0, 3, 2, 0, 0, 2, 1, 0],\n",
       "       [3, 3, 0, 2, 3, 0, 1, 3, 1, 0],\n",
       "       [1, 3, 1, 2, 1, 3, 0, 2, 1, 2],\n",
       "       [1, 1, 2, 2, 1, 3, 1, 2, 1, 2],\n",
       "       [1, 3, 2, 0, 0, 2, 0, 3, 0, 3],\n",
       "       [3, 0, 2, 1, 0, 1, 1, 2, 1, 0],\n",
       "       [3, 1, 2, 0, 1, 3, 0, 3, 0, 2],\n",
       "       [1, 0, 3, 2, 0, 1, 1, 3, 1, 2],\n",
       "       [1, 0, 1, 2, 2, 1, 0, 1, 1, 0],\n",
       "       [1, 3, 2, 4, 0, 3, 1, 3, 1, 2],\n",
       "       [1, 2, 0, 0, 3, 0, 1, 2, 1, 2],\n",
       "       [1, 1, 2, 3, 2, 3, 1, 2, 1, 2],\n",
       "       [1, 3, 1, 3, 2, 2, 1, 3, 1, 1],\n",
       "       [0, 1, 2, 3, 2, 3, 1, 2, 1, 2],\n",
       "       [1, 0, 0, 3, 2, 0, 0, 3, 1, 0],\n",
       "       [1, 3, 1, 2, 3, 0, 1, 2, 1, 0],\n",
       "       [1, 3, 1, 2, 3, 3, 1, 3, 1, 0],\n",
       "       [1, 1, 2, 0, 1, 0, 0, 3, 0, 2],\n",
       "       [1, 1, 2, 3, 2, 0, 1, 2, 1, 2],\n",
       "       [3, 3, 1, 3, 2, 2, 1, 2, 1, 1],\n",
       "       [3, 1, 2, 3, 2, 4, 1, 3, 1, 2],\n",
       "       [1, 0, 0, 3, 2, 3, 0, 2, 1, 0],\n",
       "       [1, 3, 1, 2, 3, 2, 1, 2, 1, 0],\n",
       "       [1, 0, 0, 1, 0, 3, 1, 3, 1, 0],\n",
       "       [1, 1, 2, 0, 1, 0, 0, 2, 0, 2],\n",
       "       [1, 0, 2, 2, 0, 2, 1, 3, 1, 2],\n",
       "       [1, 1, 2, 3, 2, 3, 1, 2, 1, 2],\n",
       "       [1, 3, 1, 3, 2, 2, 1, 3, 1, 1],\n",
       "       [1, 1, 2, 3, 2, 3, 1, 3, 1, 2],\n",
       "       [1, 0, 0, 3, 2, 0, 0, 2, 1, 0],\n",
       "       [0, 3, 1, 2, 3, 0, 1, 3, 1, 0],\n",
       "       [1, 3, 0, 2, 1, 3, 0, 2, 1, 2],\n",
       "       [1, 1, 2, 2, 1, 3, 1, 2, 1, 2],\n",
       "       [1, 3, 2, 0, 0, 2, 0, 3, 0, 3],\n",
       "       [1, 0, 2, 1, 0, 1, 1, 2, 1, 0],\n",
       "       [1, 3, 2, 2, 0, 2, 0, 3, 0, 3],\n",
       "       [1, 0, 3, 4, 0, 1, 1, 2, 1, 0],\n",
       "       [3, 1, 1, 3, 1, 3, 0, 3, 0, 2],\n",
       "       [3, 1, 1, 2, 2, 3, 1, 3, 1, 2],\n",
       "       [0, 3, 0, 0, 2, 2, 1, 2, 1, 1],\n",
       "       [1, 1, 2, 3, 2, 3, 1, 3, 1, 2],\n",
       "       [1, 3, 1, 3, 2, 2, 1, 3, 1, 1],\n",
       "       [1, 1, 2, 3, 2, 3, 1, 2, 1, 2],\n",
       "       [1, 0, 0, 3, 2, 0, 0, 2, 1, 0],\n",
       "       [1, 3, 1, 2, 3, 0, 1, 3, 1, 0],\n",
       "       [3, 3, 0, 2, 1, 3, 0, 2, 1, 2],\n",
       "       [3, 1, 2, 2, 1, 3, 1, 3, 1, 2],\n",
       "       [1, 3, 2, 0, 0, 2, 0, 2, 0, 3],\n",
       "       [1, 0, 2, 1, 0, 1, 1, 3, 1, 0],\n",
       "       [1, 3, 2, 2, 0, 2, 0, 3, 0, 3],\n",
       "       [1, 0, 3, 4, 0, 1, 1, 2, 1, 0],\n",
       "       [1, 1, 1, 3, 1, 3, 0, 3, 0, 2],\n",
       "       [3, 1, 1, 2, 2, 3, 1, 3, 1, 2]])"
      ]
     },
     "execution_count": 55,
     "metadata": {},
     "output_type": "execute_result"
    }
   ],
   "source": [
    "X"
   ]
  },
  {
   "cell_type": "code",
   "execution_count": 56,
   "metadata": {},
   "outputs": [],
   "source": [
    "#X = preprocessing.scale(X)"
   ]
  },
  {
   "cell_type": "markdown",
   "metadata": {},
   "source": [
    "# Label"
   ]
  },
  {
   "cell_type": "code",
   "execution_count": 57,
   "metadata": {},
   "outputs": [],
   "source": [
    "y1=np.array(df['Enter the grade you earned in this course. (If you failed, please write 0)'])"
   ]
  },
  {
   "cell_type": "code",
   "execution_count": 58,
   "metadata": {},
   "outputs": [
    {
     "data": {
      "text/plain": [
       "array([2.3, 1.5, 1.5, 1.5, 2. , 1. , 2. , 1. , 1. , 1.5, 1.5, 1.3, 1.7,\n",
       "       2. , 2. , 3.3, 3.3, 3. , 4.5, 1.8, 1.3, 5. , 3. , 1. , 3. , 2.3,\n",
       "       3. , 2.7, 3.3, 3. , 4.5, 1.8, 3. , 1. , 3. , 2.3, 2. , 2. , 3.3,\n",
       "       2.3, 3. , 2.7, 3.3, 3. , 2.7, 3.3, 1. , 0. , 3.2, 2.7, 2. , 3. ,\n",
       "       0. , 2.9, 2. , 2. , 3.3, 3.3, 1.7, 2.7, 1.8, 3. , 1. , 3. , 1. ,\n",
       "       3. , 2.3, 3. , 2. , 2. , 3.3, 3.3, 1.7, 2.3, 1.8, 3. , 1. , 3. ,\n",
       "       1. , 3. , 2.3])"
      ]
     },
     "execution_count": 58,
     "metadata": {},
     "output_type": "execute_result"
    }
   ],
   "source": [
    "y1"
   ]
  },
  {
   "cell_type": "code",
   "execution_count": 59,
   "metadata": {},
   "outputs": [],
   "source": [
    "#y = preprocessing.scale(y1)"
   ]
  },
  {
   "cell_type": "code",
   "execution_count": 60,
   "metadata": {},
   "outputs": [],
   "source": [
    "#clf = KMeans(n_clusters=4)"
   ]
  },
  {
   "cell_type": "markdown",
   "metadata": {},
   "source": [
    "# Get rid of the continous number with encoder"
   ]
  },
  {
   "cell_type": "code",
   "execution_count": 61,
   "metadata": {},
   "outputs": [],
   "source": [
    "lab_enc = preprocessing.LabelEncoder()"
   ]
  },
  {
   "cell_type": "code",
   "execution_count": 62,
   "metadata": {},
   "outputs": [],
   "source": [
    "y = lab_enc.fit_transform(y1)"
   ]
  },
  {
   "cell_type": "code",
   "execution_count": 63,
   "metadata": {},
   "outputs": [
    {
     "data": {
      "text/plain": [
       "array([ 7,  3,  3,  3,  6,  1,  6,  1,  1,  3,  3,  2,  4,  6,  6, 12, 12,\n",
       "       10, 13,  5,  2, 14, 10,  1, 10,  7, 10,  8, 12, 10, 13,  5, 10,  1,\n",
       "       10,  7,  6,  6, 12,  7, 10,  8, 12, 10,  8, 12,  1,  0, 11,  8,  6,\n",
       "       10,  0,  9,  6,  6, 12, 12,  4,  8,  5, 10,  1, 10,  1, 10,  7, 10,\n",
       "        6,  6, 12, 12,  4,  7,  5, 10,  1, 10,  1, 10,  7])"
      ]
     },
     "execution_count": 63,
     "metadata": {},
     "output_type": "execute_result"
    }
   ],
   "source": [
    "y"
   ]
  },
  {
   "cell_type": "markdown",
   "metadata": {},
   "source": [
    "# fit the model"
   ]
  },
  {
   "cell_type": "code",
   "execution_count": 64,
   "metadata": {},
   "outputs": [],
   "source": [
    "neigh = KNeighborsClassifier(n_neighbors=3)"
   ]
  },
  {
   "cell_type": "code",
   "execution_count": 65,
   "metadata": {
    "scrolled": false
   },
   "outputs": [
    {
     "data": {
      "text/plain": [
       "KNeighborsClassifier(algorithm='auto', leaf_size=30, metric='minkowski',\n",
       "                     metric_params=None, n_jobs=None, n_neighbors=3, p=2,\n",
       "                     weights='uniform')"
      ]
     },
     "execution_count": 65,
     "metadata": {},
     "output_type": "execute_result"
    }
   ],
   "source": [
    "neigh.fit(X, y)"
   ]
  },
  {
   "cell_type": "markdown",
   "metadata": {},
   "source": [
    "# prediction"
   ]
  },
  {
   "cell_type": "code",
   "execution_count": 66,
   "metadata": {},
   "outputs": [
    {
     "data": {
      "text/plain": [
       "array([6])"
      ]
     },
     "execution_count": 66,
     "metadata": {},
     "output_type": "execute_result"
    }
   ],
   "source": [
    "predicted_note = neigh.predict([[1, 2, 0, 2, 3, 2, 1, 0, 1, 1]])\n",
    "predicted_note"
   ]
  },
  {
   "cell_type": "markdown",
   "metadata": {},
   "source": [
    "# Inverse the prediction"
   ]
  },
  {
   "cell_type": "code",
   "execution_count": 67,
   "metadata": {
    "scrolled": true
   },
   "outputs": [
    {
     "name": "stderr",
     "output_type": "stream",
     "text": [
      "/Users/hasanhalacli/opt/anaconda3/lib/python3.7/site-packages/sklearn/preprocessing/label.py:273: DataConversionWarning: A column-vector y was passed when a 1d array was expected. Please change the shape of y to (n_samples, ), for example using ravel().\n",
      "  y = column_or_1d(y, warn=True)\n"
     ]
    }
   ],
   "source": [
    "z=lab_enc.inverse_transform([predicted_note])"
   ]
  },
  {
   "cell_type": "code",
   "execution_count": 68,
   "metadata": {},
   "outputs": [
    {
     "name": "stdout",
     "output_type": "stream",
     "text": [
      "[2.]\n"
     ]
    }
   ],
   "source": [
    "print(z)"
   ]
  }
 ],
 "metadata": {
  "kernelspec": {
   "display_name": "Python 3.7.4 64-bit (conda)",
   "language": "python",
   "name": "python37464bitconda592000b2e0504bf78cb512f454b13ece"
  },
  "language_info": {
   "codemirror_mode": {
    "name": "ipython",
    "version": 3
   },
   "file_extension": ".py",
   "mimetype": "text/x-python",
   "name": "python",
   "nbconvert_exporter": "python",
   "pygments_lexer": "ipython3",
   "version": "3.7.4"
  }
 },
 "nbformat": 4,
 "nbformat_minor": 2
}
